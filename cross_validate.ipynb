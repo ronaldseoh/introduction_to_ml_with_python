{
 "cells": [
  {
   "cell_type": "markdown",
   "metadata": {},
   "source": [
    "이 노트북의 코드에 대한 설명은 [다중 평가 지표: cross_validate()](https://tensorflow.blog/2018/03/13/%EB%8B%A4%EC%A4%91-%ED%8F%89%EA%B0%80-%EC%A7%80%ED%91%9C-cross_validate/) 글을 참고하세요."
   ]
  },
  {
   "cell_type": "code",
   "execution_count": 1,
   "metadata": {},
   "outputs": [],
   "source": [
    "import pandas as pd\n",
    "import numpy as np\n",
    "from sklearn.datasets import load_digits\n",
    "from sklearn.model_selection import train_test_split, cross_val_score"
   ]
  },
  {
   "cell_type": "code",
   "execution_count": 2,
   "metadata": {},
   "outputs": [],
   "source": [
    "digits = load_digits()\n",
    "X_train, X_test, y_train, y_test = train_test_split(\n",
    "    digits.data, digits.target == 9, random_state=42)"
   ]
  },
  {
   "cell_type": "code",
   "execution_count": 3,
   "metadata": {},
   "outputs": [],
   "source": [
    "from sklearn.svm import SVC"
   ]
  },
  {
   "cell_type": "code",
   "execution_count": 4,
   "metadata": {},
   "outputs": [
    {
     "data": {
      "text/plain": [
       "array([0.90200445, 0.90200445, 0.90200445])"
      ]
     },
     "execution_count": 4,
     "metadata": {},
     "output_type": "execute_result"
    }
   ],
   "source": [
    "cross_val_score(SVC(gamma='auto'), X_train, y_train, cv=3)"
   ]
  },
  {
   "cell_type": "code",
   "execution_count": 5,
   "metadata": {},
   "outputs": [
    {
     "data": {
      "text/plain": [
       "array([0.90200445, 0.90200445, 0.90200445])"
      ]
     },
     "execution_count": 5,
     "metadata": {},
     "output_type": "execute_result"
    }
   ],
   "source": [
    "cross_val_score(SVC(gamma='auto'), X_train, y_train, scoring='accuracy', cv=3)"
   ]
  },
  {
   "cell_type": "code",
   "execution_count": 6,
   "metadata": {},
   "outputs": [],
   "source": [
    "from sklearn.model_selection import cross_validate"
   ]
  },
  {
   "cell_type": "code",
   "execution_count": 7,
   "metadata": {},
   "outputs": [
    {
     "data": {
      "text/plain": [
       "{'fit_time': array([0.07618928, 0.07637691, 0.07586432]),\n",
       " 'score_time': array([0.0641861 , 0.06401324, 0.0637908 ]),\n",
       " 'test_accuracy': array([0.90200445, 0.90200445, 0.90200445]),\n",
       " 'test_roc_auc': array([0.99657688, 0.99814815, 0.99943883]),\n",
       " 'train_accuracy': array([1., 1., 1.]),\n",
       " 'train_roc_auc': array([1., 1., 1.])}"
      ]
     },
     "execution_count": 7,
     "metadata": {},
     "output_type": "execute_result"
    }
   ],
   "source": [
    "cross_validate(SVC(gamma='auto'), X_train, y_train, \n",
    "               scoring=['accuracy', 'roc_auc'], \n",
    "               return_train_score=True, cv=3)"
   ]
  },
  {
   "cell_type": "code",
   "execution_count": 8,
   "metadata": {},
   "outputs": [
    {
     "data": {
      "text/plain": [
       "array([0.90200445, 0.90200445, 0.90200445])"
      ]
     },
     "execution_count": 8,
     "metadata": {},
     "output_type": "execute_result"
    }
   ],
   "source": [
    "cross_validate(SVC(gamma='auto'), X_train, y_train, \n",
    "               scoring=['accuracy'], cv=3,\n",
    "               return_train_score=False)['test_accuracy']"
   ]
  },
  {
   "cell_type": "code",
   "execution_count": 9,
   "metadata": {},
   "outputs": [
    {
     "data": {
      "text/plain": [
       "{'fit_time': array([0.07812428, 0.07830691, 0.077842  ]),\n",
       " 'score_time': array([0.06565356, 0.06545377, 0.06555676]),\n",
       " 'test_acc': array([0.90200445, 0.90200445, 0.90200445]),\n",
       " 'test_ra': array([0.99657688, 0.99814815, 0.99943883])}"
      ]
     },
     "execution_count": 9,
     "metadata": {},
     "output_type": "execute_result"
    }
   ],
   "source": [
    "cross_validate(SVC(gamma='auto'), X_train, y_train, \n",
    "               scoring={'acc':'accuracy', 'ra':'roc_auc'}, \n",
    "               return_train_score=False, cv=3)"
   ]
  },
  {
   "cell_type": "code",
   "execution_count": 10,
   "metadata": {},
   "outputs": [],
   "source": [
    "from sklearn.model_selection import GridSearchCV"
   ]
  },
  {
   "cell_type": "code",
   "execution_count": 11,
   "metadata": {},
   "outputs": [],
   "source": [
    "param_grid = {'gamma': [0.0001, 0.01, 0.1, 1, 10]}"
   ]
  },
  {
   "cell_type": "code",
   "execution_count": 12,
   "metadata": {},
   "outputs": [
    {
     "data": {
      "text/plain": [
       "GridSearchCV(cv=3, error_score='raise-deprecating',\n",
       "       estimator=SVC(C=1.0, cache_size=200, class_weight=None, coef0=0.0,\n",
       "  decision_function_shape='ovr', degree=3, gamma='auto_deprecated',\n",
       "  kernel='rbf', max_iter=-1, probability=False, random_state=None,\n",
       "  shrinking=True, tol=0.001, verbose=False),\n",
       "       fit_params=None, iid='warn', n_jobs=None,\n",
       "       param_grid={'gamma': [0.0001, 0.01, 0.1, 1, 10]},\n",
       "       pre_dispatch='2*n_jobs', refit='accuracy', return_train_score=True,\n",
       "       scoring=['accuracy'], verbose=0)"
      ]
     },
     "execution_count": 12,
     "metadata": {},
     "output_type": "execute_result"
    }
   ],
   "source": [
    "grid = GridSearchCV(SVC(), param_grid=param_grid, \n",
    "                    scoring=['accuracy'], refit='accuracy',\n",
    "                    return_train_score=True, cv=3)\n",
    "grid.fit(X_train, y_train)"
   ]
  },
  {
   "cell_type": "code",
   "execution_count": 13,
   "metadata": {},
   "outputs": [
    {
     "data": {
      "text/plain": [
       "{'gamma': 0.0001}"
      ]
     },
     "execution_count": 13,
     "metadata": {},
     "output_type": "execute_result"
    }
   ],
   "source": [
    "grid.best_params_"
   ]
  },
  {
   "cell_type": "code",
   "execution_count": 14,
   "metadata": {},
   "outputs": [
    {
     "data": {
      "text/plain": [
       "0.9651076466221232"
      ]
     },
     "execution_count": 14,
     "metadata": {},
     "output_type": "execute_result"
    }
   ],
   "source": [
    "grid.best_score_"
   ]
  },
  {
   "cell_type": "code",
   "execution_count": 15,
   "metadata": {},
   "outputs": [
    {
     "data": {
      "text/html": [
       "<div>\n",
       "<style scoped>\n",
       "    .dataframe tbody tr th:only-of-type {\n",
       "        vertical-align: middle;\n",
       "    }\n",
       "\n",
       "    .dataframe tbody tr th {\n",
       "        vertical-align: top;\n",
       "    }\n",
       "\n",
       "    .dataframe thead th {\n",
       "        text-align: right;\n",
       "    }\n",
       "</style>\n",
       "<table border=\"1\" class=\"dataframe\">\n",
       "  <thead>\n",
       "    <tr style=\"text-align: right;\">\n",
       "      <th></th>\n",
       "      <th>0</th>\n",
       "      <th>1</th>\n",
       "      <th>2</th>\n",
       "      <th>3</th>\n",
       "      <th>4</th>\n",
       "    </tr>\n",
       "  </thead>\n",
       "  <tbody>\n",
       "    <tr>\n",
       "      <th>mean_fit_time</th>\n",
       "      <td>0.015072</td>\n",
       "      <td>0.074425</td>\n",
       "      <td>0.07734</td>\n",
       "      <td>0.0700471</td>\n",
       "      <td>0.0694924</td>\n",
       "    </tr>\n",
       "    <tr>\n",
       "      <th>mean_score_time</th>\n",
       "      <td>0.00654006</td>\n",
       "      <td>0.031659</td>\n",
       "      <td>0.0317933</td>\n",
       "      <td>0.0279772</td>\n",
       "      <td>0.0277294</td>\n",
       "    </tr>\n",
       "    <tr>\n",
       "      <th>mean_test_accuracy</th>\n",
       "      <td>0.965108</td>\n",
       "      <td>0.902004</td>\n",
       "      <td>0.902004</td>\n",
       "      <td>0.902004</td>\n",
       "      <td>0.902004</td>\n",
       "    </tr>\n",
       "    <tr>\n",
       "      <th>mean_train_accuracy</th>\n",
       "      <td>0.970676</td>\n",
       "      <td>1</td>\n",
       "      <td>1</td>\n",
       "      <td>1</td>\n",
       "      <td>1</td>\n",
       "    </tr>\n",
       "    <tr>\n",
       "      <th>param_gamma</th>\n",
       "      <td>0.0001</td>\n",
       "      <td>0.01</td>\n",
       "      <td>0.1</td>\n",
       "      <td>1</td>\n",
       "      <td>10</td>\n",
       "    </tr>\n",
       "    <tr>\n",
       "      <th>params</th>\n",
       "      <td>{'gamma': 0.0001}</td>\n",
       "      <td>{'gamma': 0.01}</td>\n",
       "      <td>{'gamma': 0.1}</td>\n",
       "      <td>{'gamma': 1}</td>\n",
       "      <td>{'gamma': 10}</td>\n",
       "    </tr>\n",
       "    <tr>\n",
       "      <th>rank_test_accuracy</th>\n",
       "      <td>1</td>\n",
       "      <td>2</td>\n",
       "      <td>2</td>\n",
       "      <td>2</td>\n",
       "      <td>2</td>\n",
       "    </tr>\n",
       "    <tr>\n",
       "      <th>split0_test_accuracy</th>\n",
       "      <td>0.966592</td>\n",
       "      <td>0.902004</td>\n",
       "      <td>0.902004</td>\n",
       "      <td>0.902004</td>\n",
       "      <td>0.902004</td>\n",
       "    </tr>\n",
       "    <tr>\n",
       "      <th>split0_train_accuracy</th>\n",
       "      <td>0.975501</td>\n",
       "      <td>1</td>\n",
       "      <td>1</td>\n",
       "      <td>1</td>\n",
       "      <td>1</td>\n",
       "    </tr>\n",
       "    <tr>\n",
       "      <th>split1_test_accuracy</th>\n",
       "      <td>0.96882</td>\n",
       "      <td>0.902004</td>\n",
       "      <td>0.902004</td>\n",
       "      <td>0.902004</td>\n",
       "      <td>0.902004</td>\n",
       "    </tr>\n",
       "    <tr>\n",
       "      <th>split1_train_accuracy</th>\n",
       "      <td>0.962138</td>\n",
       "      <td>1</td>\n",
       "      <td>1</td>\n",
       "      <td>1</td>\n",
       "      <td>1</td>\n",
       "    </tr>\n",
       "    <tr>\n",
       "      <th>split2_test_accuracy</th>\n",
       "      <td>0.959911</td>\n",
       "      <td>0.902004</td>\n",
       "      <td>0.902004</td>\n",
       "      <td>0.902004</td>\n",
       "      <td>0.902004</td>\n",
       "    </tr>\n",
       "    <tr>\n",
       "      <th>split2_train_accuracy</th>\n",
       "      <td>0.974388</td>\n",
       "      <td>1</td>\n",
       "      <td>1</td>\n",
       "      <td>1</td>\n",
       "      <td>1</td>\n",
       "    </tr>\n",
       "    <tr>\n",
       "      <th>std_fit_time</th>\n",
       "      <td>0.000167006</td>\n",
       "      <td>0.000345247</td>\n",
       "      <td>4.47831e-05</td>\n",
       "      <td>2.40184e-05</td>\n",
       "      <td>3.97682e-05</td>\n",
       "    </tr>\n",
       "    <tr>\n",
       "      <th>std_score_time</th>\n",
       "      <td>0.000106334</td>\n",
       "      <td>2.31535e-05</td>\n",
       "      <td>9.92971e-05</td>\n",
       "      <td>1.07896e-05</td>\n",
       "      <td>2.01933e-05</td>\n",
       "    </tr>\n",
       "    <tr>\n",
       "      <th>std_test_accuracy</th>\n",
       "      <td>0.00378546</td>\n",
       "      <td>0</td>\n",
       "      <td>0</td>\n",
       "      <td>0</td>\n",
       "      <td>0</td>\n",
       "    </tr>\n",
       "    <tr>\n",
       "      <th>std_train_accuracy</th>\n",
       "      <td>0.00605401</td>\n",
       "      <td>0</td>\n",
       "      <td>0</td>\n",
       "      <td>0</td>\n",
       "      <td>0</td>\n",
       "    </tr>\n",
       "  </tbody>\n",
       "</table>\n",
       "</div>"
      ],
      "text/plain": [
       "                                       0                1               2  \\\n",
       "mean_fit_time                   0.015072         0.074425         0.07734   \n",
       "mean_score_time               0.00654006         0.031659       0.0317933   \n",
       "mean_test_accuracy              0.965108         0.902004        0.902004   \n",
       "mean_train_accuracy             0.970676                1               1   \n",
       "param_gamma                       0.0001             0.01             0.1   \n",
       "params                 {'gamma': 0.0001}  {'gamma': 0.01}  {'gamma': 0.1}   \n",
       "rank_test_accuracy                     1                2               2   \n",
       "split0_test_accuracy            0.966592         0.902004        0.902004   \n",
       "split0_train_accuracy           0.975501                1               1   \n",
       "split1_test_accuracy             0.96882         0.902004        0.902004   \n",
       "split1_train_accuracy           0.962138                1               1   \n",
       "split2_test_accuracy            0.959911         0.902004        0.902004   \n",
       "split2_train_accuracy           0.974388                1               1   \n",
       "std_fit_time                 0.000167006      0.000345247     4.47831e-05   \n",
       "std_score_time               0.000106334      2.31535e-05     9.92971e-05   \n",
       "std_test_accuracy             0.00378546                0               0   \n",
       "std_train_accuracy            0.00605401                0               0   \n",
       "\n",
       "                                  3              4  \n",
       "mean_fit_time             0.0700471      0.0694924  \n",
       "mean_score_time           0.0279772      0.0277294  \n",
       "mean_test_accuracy         0.902004       0.902004  \n",
       "mean_train_accuracy               1              1  \n",
       "param_gamma                       1             10  \n",
       "params                 {'gamma': 1}  {'gamma': 10}  \n",
       "rank_test_accuracy                2              2  \n",
       "split0_test_accuracy       0.902004       0.902004  \n",
       "split0_train_accuracy             1              1  \n",
       "split1_test_accuracy       0.902004       0.902004  \n",
       "split1_train_accuracy             1              1  \n",
       "split2_test_accuracy       0.902004       0.902004  \n",
       "split2_train_accuracy             1              1  \n",
       "std_fit_time            2.40184e-05    3.97682e-05  \n",
       "std_score_time          1.07896e-05    2.01933e-05  \n",
       "std_test_accuracy                 0              0  \n",
       "std_train_accuracy                0              0  "
      ]
     },
     "execution_count": 15,
     "metadata": {},
     "output_type": "execute_result"
    }
   ],
   "source": [
    "np.transpose(pd.DataFrame(grid.cv_results_))"
   ]
  },
  {
   "cell_type": "code",
   "execution_count": 16,
   "metadata": {},
   "outputs": [
    {
     "data": {
      "text/plain": [
       "GridSearchCV(cv=3, error_score='raise-deprecating',\n",
       "       estimator=SVC(C=1.0, cache_size=200, class_weight=None, coef0=0.0,\n",
       "  decision_function_shape='ovr', degree=3, gamma='auto_deprecated',\n",
       "  kernel='rbf', max_iter=-1, probability=False, random_state=None,\n",
       "  shrinking=True, tol=0.001, verbose=False),\n",
       "       fit_params=None, iid='warn', n_jobs=None,\n",
       "       param_grid={'gamma': [0.0001, 0.01, 0.1, 1, 10]},\n",
       "       pre_dispatch='2*n_jobs', refit='ra', return_train_score=True,\n",
       "       scoring={'ra': 'roc_auc', 'acc': 'accuracy'}, verbose=0)"
      ]
     },
     "execution_count": 16,
     "metadata": {},
     "output_type": "execute_result"
    }
   ],
   "source": [
    "grid = GridSearchCV(SVC(), param_grid=param_grid, \n",
    "                    scoring={'acc':'accuracy', 'ra':'roc_auc'}, refit='ra',\n",
    "                    return_train_score=True, cv=3)\n",
    "grid.fit(X_train, y_train)"
   ]
  },
  {
   "cell_type": "code",
   "execution_count": 17,
   "metadata": {},
   "outputs": [
    {
     "data": {
      "text/plain": [
       "{'gamma': 0.01}"
      ]
     },
     "execution_count": 17,
     "metadata": {},
     "output_type": "execute_result"
    }
   ],
   "source": [
    "grid.best_params_"
   ]
  },
  {
   "cell_type": "code",
   "execution_count": 18,
   "metadata": {},
   "outputs": [
    {
     "data": {
      "text/plain": [
       "0.9983352038907595"
      ]
     },
     "execution_count": 18,
     "metadata": {},
     "output_type": "execute_result"
    }
   ],
   "source": [
    "grid.best_score_"
   ]
  },
  {
   "cell_type": "code",
   "execution_count": 19,
   "metadata": {},
   "outputs": [
    {
     "data": {
      "text/html": [
       "<div>\n",
       "<style scoped>\n",
       "    .dataframe tbody tr th:only-of-type {\n",
       "        vertical-align: middle;\n",
       "    }\n",
       "\n",
       "    .dataframe tbody tr th {\n",
       "        vertical-align: top;\n",
       "    }\n",
       "\n",
       "    .dataframe thead th {\n",
       "        text-align: right;\n",
       "    }\n",
       "</style>\n",
       "<table border=\"1\" class=\"dataframe\">\n",
       "  <thead>\n",
       "    <tr style=\"text-align: right;\">\n",
       "      <th></th>\n",
       "      <th>0</th>\n",
       "      <th>1</th>\n",
       "      <th>2</th>\n",
       "      <th>3</th>\n",
       "      <th>4</th>\n",
       "    </tr>\n",
       "  </thead>\n",
       "  <tbody>\n",
       "    <tr>\n",
       "      <th>mean_fit_time</th>\n",
       "      <td>0.0148106</td>\n",
       "      <td>0.0743373</td>\n",
       "      <td>0.0773802</td>\n",
       "      <td>0.0702082</td>\n",
       "      <td>0.0701415</td>\n",
       "    </tr>\n",
       "    <tr>\n",
       "      <th>mean_score_time</th>\n",
       "      <td>0.0133291</td>\n",
       "      <td>0.0638885</td>\n",
       "      <td>0.0638817</td>\n",
       "      <td>0.0564213</td>\n",
       "      <td>0.056355</td>\n",
       "    </tr>\n",
       "    <tr>\n",
       "      <th>mean_test_acc</th>\n",
       "      <td>0.965108</td>\n",
       "      <td>0.902004</td>\n",
       "      <td>0.902004</td>\n",
       "      <td>0.902004</td>\n",
       "      <td>0.902004</td>\n",
       "    </tr>\n",
       "    <tr>\n",
       "      <th>mean_test_ra</th>\n",
       "      <td>0.988403</td>\n",
       "      <td>0.998335</td>\n",
       "      <td>0.918986</td>\n",
       "      <td>0.5</td>\n",
       "      <td>0.5</td>\n",
       "    </tr>\n",
       "    <tr>\n",
       "      <th>mean_train_acc</th>\n",
       "      <td>0.970676</td>\n",
       "      <td>1</td>\n",
       "      <td>1</td>\n",
       "      <td>1</td>\n",
       "      <td>1</td>\n",
       "    </tr>\n",
       "    <tr>\n",
       "      <th>mean_train_ra</th>\n",
       "      <td>0.992134</td>\n",
       "      <td>1</td>\n",
       "      <td>1</td>\n",
       "      <td>1</td>\n",
       "      <td>1</td>\n",
       "    </tr>\n",
       "    <tr>\n",
       "      <th>param_gamma</th>\n",
       "      <td>0.0001</td>\n",
       "      <td>0.01</td>\n",
       "      <td>0.1</td>\n",
       "      <td>1</td>\n",
       "      <td>10</td>\n",
       "    </tr>\n",
       "    <tr>\n",
       "      <th>params</th>\n",
       "      <td>{'gamma': 0.0001}</td>\n",
       "      <td>{'gamma': 0.01}</td>\n",
       "      <td>{'gamma': 0.1}</td>\n",
       "      <td>{'gamma': 1}</td>\n",
       "      <td>{'gamma': 10}</td>\n",
       "    </tr>\n",
       "    <tr>\n",
       "      <th>rank_test_acc</th>\n",
       "      <td>1</td>\n",
       "      <td>2</td>\n",
       "      <td>2</td>\n",
       "      <td>2</td>\n",
       "      <td>2</td>\n",
       "    </tr>\n",
       "    <tr>\n",
       "      <th>rank_test_ra</th>\n",
       "      <td>2</td>\n",
       "      <td>1</td>\n",
       "      <td>3</td>\n",
       "      <td>4</td>\n",
       "      <td>4</td>\n",
       "    </tr>\n",
       "    <tr>\n",
       "      <th>split0_test_acc</th>\n",
       "      <td>0.966592</td>\n",
       "      <td>0.902004</td>\n",
       "      <td>0.902004</td>\n",
       "      <td>0.902004</td>\n",
       "      <td>0.902004</td>\n",
       "    </tr>\n",
       "    <tr>\n",
       "      <th>split0_test_ra</th>\n",
       "      <td>0.98367</td>\n",
       "      <td>0.997419</td>\n",
       "      <td>0.934007</td>\n",
       "      <td>0.5</td>\n",
       "      <td>0.5</td>\n",
       "    </tr>\n",
       "    <tr>\n",
       "      <th>split0_train_acc</th>\n",
       "      <td>0.975501</td>\n",
       "      <td>1</td>\n",
       "      <td>1</td>\n",
       "      <td>1</td>\n",
       "      <td>1</td>\n",
       "    </tr>\n",
       "    <tr>\n",
       "      <th>split0_train_ra</th>\n",
       "      <td>0.992017</td>\n",
       "      <td>1</td>\n",
       "      <td>1</td>\n",
       "      <td>1</td>\n",
       "      <td>1</td>\n",
       "    </tr>\n",
       "    <tr>\n",
       "      <th>split1_test_acc</th>\n",
       "      <td>0.96882</td>\n",
       "      <td>0.902004</td>\n",
       "      <td>0.902004</td>\n",
       "      <td>0.902004</td>\n",
       "      <td>0.902004</td>\n",
       "    </tr>\n",
       "    <tr>\n",
       "      <th>split1_test_ra</th>\n",
       "      <td>0.987149</td>\n",
       "      <td>0.998148</td>\n",
       "      <td>0.912458</td>\n",
       "      <td>0.5</td>\n",
       "      <td>0.5</td>\n",
       "    </tr>\n",
       "    <tr>\n",
       "      <th>split1_train_acc</th>\n",
       "      <td>0.962138</td>\n",
       "      <td>1</td>\n",
       "      <td>1</td>\n",
       "      <td>1</td>\n",
       "      <td>1</td>\n",
       "    </tr>\n",
       "    <tr>\n",
       "      <th>split1_train_ra</th>\n",
       "      <td>0.994935</td>\n",
       "      <td>1</td>\n",
       "      <td>1</td>\n",
       "      <td>1</td>\n",
       "      <td>1</td>\n",
       "    </tr>\n",
       "    <tr>\n",
       "      <th>split2_test_acc</th>\n",
       "      <td>0.959911</td>\n",
       "      <td>0.902004</td>\n",
       "      <td>0.902004</td>\n",
       "      <td>0.902004</td>\n",
       "      <td>0.902004</td>\n",
       "    </tr>\n",
       "    <tr>\n",
       "      <th>split2_test_ra</th>\n",
       "      <td>0.994388</td>\n",
       "      <td>0.999439</td>\n",
       "      <td>0.910494</td>\n",
       "      <td>0.5</td>\n",
       "      <td>0.5</td>\n",
       "    </tr>\n",
       "    <tr>\n",
       "      <th>split2_train_acc</th>\n",
       "      <td>0.974388</td>\n",
       "      <td>1</td>\n",
       "      <td>1</td>\n",
       "      <td>1</td>\n",
       "      <td>1</td>\n",
       "    </tr>\n",
       "    <tr>\n",
       "      <th>split2_train_ra</th>\n",
       "      <td>0.98945</td>\n",
       "      <td>1</td>\n",
       "      <td>1</td>\n",
       "      <td>1</td>\n",
       "      <td>1</td>\n",
       "    </tr>\n",
       "    <tr>\n",
       "      <th>std_fit_time</th>\n",
       "      <td>0.000175309</td>\n",
       "      <td>0.000157003</td>\n",
       "      <td>2.14285e-05</td>\n",
       "      <td>0.000141432</td>\n",
       "      <td>0.000852465</td>\n",
       "    </tr>\n",
       "    <tr>\n",
       "      <th>std_score_time</th>\n",
       "      <td>7.33891e-05</td>\n",
       "      <td>0.000202336</td>\n",
       "      <td>8.94391e-05</td>\n",
       "      <td>2.56253e-05</td>\n",
       "      <td>0.00055562</td>\n",
       "    </tr>\n",
       "    <tr>\n",
       "      <th>std_test_acc</th>\n",
       "      <td>0.00378546</td>\n",
       "      <td>0</td>\n",
       "      <td>0</td>\n",
       "      <td>0</td>\n",
       "      <td>0</td>\n",
       "    </tr>\n",
       "    <tr>\n",
       "      <th>std_test_ra</th>\n",
       "      <td>0.00446456</td>\n",
       "      <td>0.000835283</td>\n",
       "      <td>0.0106514</td>\n",
       "      <td>0</td>\n",
       "      <td>0</td>\n",
       "    </tr>\n",
       "    <tr>\n",
       "      <th>std_train_acc</th>\n",
       "      <td>0.00605401</td>\n",
       "      <td>0</td>\n",
       "      <td>0</td>\n",
       "      <td>0</td>\n",
       "      <td>0</td>\n",
       "    </tr>\n",
       "    <tr>\n",
       "      <th>std_train_ra</th>\n",
       "      <td>0.00224093</td>\n",
       "      <td>0</td>\n",
       "      <td>6.40988e-17</td>\n",
       "      <td>0</td>\n",
       "      <td>0</td>\n",
       "    </tr>\n",
       "  </tbody>\n",
       "</table>\n",
       "</div>"
      ],
      "text/plain": [
       "                                  0                1               2  \\\n",
       "mean_fit_time             0.0148106        0.0743373       0.0773802   \n",
       "mean_score_time           0.0133291        0.0638885       0.0638817   \n",
       "mean_test_acc              0.965108         0.902004        0.902004   \n",
       "mean_test_ra               0.988403         0.998335        0.918986   \n",
       "mean_train_acc             0.970676                1               1   \n",
       "mean_train_ra              0.992134                1               1   \n",
       "param_gamma                  0.0001             0.01             0.1   \n",
       "params            {'gamma': 0.0001}  {'gamma': 0.01}  {'gamma': 0.1}   \n",
       "rank_test_acc                     1                2               2   \n",
       "rank_test_ra                      2                1               3   \n",
       "split0_test_acc            0.966592         0.902004        0.902004   \n",
       "split0_test_ra              0.98367         0.997419        0.934007   \n",
       "split0_train_acc           0.975501                1               1   \n",
       "split0_train_ra            0.992017                1               1   \n",
       "split1_test_acc             0.96882         0.902004        0.902004   \n",
       "split1_test_ra             0.987149         0.998148        0.912458   \n",
       "split1_train_acc           0.962138                1               1   \n",
       "split1_train_ra            0.994935                1               1   \n",
       "split2_test_acc            0.959911         0.902004        0.902004   \n",
       "split2_test_ra             0.994388         0.999439        0.910494   \n",
       "split2_train_acc           0.974388                1               1   \n",
       "split2_train_ra             0.98945                1               1   \n",
       "std_fit_time            0.000175309      0.000157003     2.14285e-05   \n",
       "std_score_time          7.33891e-05      0.000202336     8.94391e-05   \n",
       "std_test_acc             0.00378546                0               0   \n",
       "std_test_ra              0.00446456      0.000835283       0.0106514   \n",
       "std_train_acc            0.00605401                0               0   \n",
       "std_train_ra             0.00224093                0     6.40988e-17   \n",
       "\n",
       "                             3              4  \n",
       "mean_fit_time        0.0702082      0.0701415  \n",
       "mean_score_time      0.0564213       0.056355  \n",
       "mean_test_acc         0.902004       0.902004  \n",
       "mean_test_ra               0.5            0.5  \n",
       "mean_train_acc               1              1  \n",
       "mean_train_ra                1              1  \n",
       "param_gamma                  1             10  \n",
       "params            {'gamma': 1}  {'gamma': 10}  \n",
       "rank_test_acc                2              2  \n",
       "rank_test_ra                 4              4  \n",
       "split0_test_acc       0.902004       0.902004  \n",
       "split0_test_ra             0.5            0.5  \n",
       "split0_train_acc             1              1  \n",
       "split0_train_ra              1              1  \n",
       "split1_test_acc       0.902004       0.902004  \n",
       "split1_test_ra             0.5            0.5  \n",
       "split1_train_acc             1              1  \n",
       "split1_train_ra              1              1  \n",
       "split2_test_acc       0.902004       0.902004  \n",
       "split2_test_ra             0.5            0.5  \n",
       "split2_train_acc             1              1  \n",
       "split2_train_ra              1              1  \n",
       "std_fit_time       0.000141432    0.000852465  \n",
       "std_score_time     2.56253e-05     0.00055562  \n",
       "std_test_acc                 0              0  \n",
       "std_test_ra                  0              0  \n",
       "std_train_acc                0              0  \n",
       "std_train_ra                 0              0  "
      ]
     },
     "execution_count": 19,
     "metadata": {},
     "output_type": "execute_result"
    }
   ],
   "source": [
    "np.transpose(pd.DataFrame(grid.cv_results_))"
   ]
  },
  {
   "cell_type": "code",
   "execution_count": 20,
   "metadata": {},
   "outputs": [
    {
     "data": {
      "text/plain": [
       "SVC(C=1.0, cache_size=200, class_weight=None, coef0=0.0,\n",
       "  decision_function_shape='ovr', degree=3, gamma=0.01, kernel='rbf',\n",
       "  max_iter=-1, probability=False, random_state=None, shrinking=True,\n",
       "  tol=0.001, verbose=False)"
      ]
     },
     "execution_count": 20,
     "metadata": {},
     "output_type": "execute_result"
    }
   ],
   "source": [
    "grid.best_estimator_"
   ]
  }
 ],
 "metadata": {
  "kernelspec": {
   "display_name": "Python 3",
   "language": "python",
   "name": "python3"
  },
  "language_info": {
   "codemirror_mode": {
    "name": "ipython",
    "version": 3
   },
   "file_extension": ".py",
   "mimetype": "text/x-python",
   "name": "python",
   "nbconvert_exporter": "python",
   "pygments_lexer": "ipython3",
   "version": "3.5.6"
  }
 },
 "nbformat": 4,
 "nbformat_minor": 2
}
